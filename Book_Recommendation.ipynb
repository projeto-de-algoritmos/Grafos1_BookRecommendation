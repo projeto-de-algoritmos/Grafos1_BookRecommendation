{
 "cells": [
  {
   "cell_type": "markdown",
   "id": "a8c6578d",
   "metadata": {},
   "source": [
    "# Projeto de algoritmos"
   ]
  },
  {
   "cell_type": "markdown",
   "id": "36c713b8",
   "metadata": {},
   "source": [
    "#### Professor Mauricio Serrano\n",
    "\n",
    "#### Davi Alves Bezerra - FGA UNB\n",
    "\n",
    "#### Grafos1 - Sistema de recomendação baseado em grafos"
   ]
  },
  {
   "cell_type": "markdown",
   "id": "6fbec24e",
   "metadata": {},
   "source": [
    "---------------------------------------------------------------"
   ]
  },
  {
   "cell_type": "markdown",
   "id": "07d75cb0",
   "metadata": {},
   "source": [
    "Como visto, um grafo é capaz de representar conexões entre individuos, contas bancarias e até grupos mal intencionados. Há alguns datasets disponiveis pela universidade de [Stanford](https://snap.stanford.edu/data/) para analise de redes. Os dados foram coletados por meio de crawling do site da Amazon e contêm metadados de produtos e informações de revisão sobre 548.552 produtos diferentes (Livros, CDs de música, DVDs e fitas de vídeo VHS). Nesse projeto irei usar somente os livros a principio para diminuir a quantidade de dados. Há o total de 393561 livros, de gêneros diversos. Os dados usados são de 2006."
   ]
  },
  {
   "cell_type": "markdown",
   "id": "9bdd7a95",
   "metadata": {},
   "source": [
    "### Disposição dos dados:\n",
    "\n",
    "- Id: Id do produto (numero entre 0, ..., 548551)\n",
    "- ASIN: Amazon Standard Identification Number (Número de identificação padrão da Amazon)\n",
    "- title: Nome ou titulo do produto\n",
    "- group: Grupo do produto, ou tipo (Livro, DVD, Video or Musica)\n",
    "- salesrank: Rank de vendas da Amazon\n",
    "- similar: ASINs de produtos comprados em conjunto (as pessoas que compram X também compram Y)\n",
    "- categories: Local na hierarquia de categorias do produto ao qual o produto pertence (separado por |, ID da categoria)\n",
    "- reviews: Informações da avaliação do produto: tempo, ID do usuário, classificação, número total de votos na avaliação, número total de votos de utilidade (quantas pessoas acharam a avaliação útil)"
   ]
  },
  {
   "cell_type": "code",
   "execution_count": null,
   "id": "d2db644f",
   "metadata": {},
   "outputs": [],
   "source": [
    "# Download\n",
    "!wget https://snap.stanford.edu/data/bigdata/amazon/amazon-meta.txt.gz"
   ]
  },
  {
   "cell_type": "code",
   "execution_count": 5,
   "id": "7dba0a9d",
   "metadata": {},
   "outputs": [],
   "source": [
    "# unzip dataset\n",
    "!gzip -dk amazon-meta.txt.gz"
   ]
  },
  {
   "cell_type": "markdown",
   "id": "4c155049",
   "metadata": {},
   "source": [
    "Agora vamos identificar o que poderia ser nossos nós e vertices para montar o grafo.\n",
    "Inicialmente vamos criar uma rede de relacionamento usando apenas algumas compras para ter uma ideia."
   ]
  },
  {
   "cell_type": "code",
   "execution_count": 6,
   "id": "be1032ab",
   "metadata": {},
   "outputs": [],
   "source": [
    "from pyvis.network import Network\n",
    "import pandas as pd\n",
    "import re"
   ]
  },
  {
   "cell_type": "code",
   "execution_count": 14,
   "id": "2321b4b2",
   "metadata": {},
   "outputs": [],
   "source": [
    "# função para selecionar uma quantia dentro do dataset\n",
    "def get_sample_dataset(raw_data, len_sample, data_name=\"amazon-meta\"):\n",
    "    count = 1\n",
    "    left_text = 0\n",
    "    dataset = []\n",
    "    \n",
    "    if data_name==\"amazon-meta\":\n",
    "        amazon_data = raw_data[3:]\n",
    "        \n",
    "        for i, line in enumerate(amazon_data):\n",
    "            if line == '\\n':\n",
    "                dataset.append(amazon_data[left_text:i])\n",
    "                left_text = i\n",
    "                \n",
    "                if count==len_sample:\n",
    "                    return dataset\n",
    "                count+=1\n",
    "\n",
    "# função para separar itens desejados\n",
    "def get_amazon_metadata(dataset):\n",
    "    \n",
    "    discontinued_product = re.findall(r\"discontinued product\", dataset)\n",
    "    id_product = re.findall(r\"Id:.*?\\n\", dataset)\n",
    "    asin_product = re.findall(r\"ASIN:.*?\\n\", dataset)\n",
    "    cutomer_product = re.findall(r\"cutomer:.*?\\w+\", dataset)\n",
    "    \n",
    "    if not asin_product or discontinued_product or not cutomer_product:\n",
    "        return None\n",
    "    \n",
    "    rate_cutomer = re.findall(r\"rating:\\s(\\d+)\", dataset)\n",
    "    similar_asin_products = re.findall(r\"similar:.*?\\n\", dataset)\n",
    "    category_product = re.findall(r\"group:.*?\\n\", dataset)\n",
    "    title_product = re.findall(r\"title:(.*?)\\n\", dataset)\n",
    "\n",
    "    ids = list(filter(None, id_product[0].split(\" \")))[1].replace('\\n', '')\n",
    "    source = [i.split(' ')[-1] for i in cutomer_product]\n",
    "    target = list(len(source) * (asin_product[0].split(\" \")[1].replace('\\n', ''),))\n",
    "    weight = rate_cutomer[1:]\n",
    "    name = title_product[0].strip()\n",
    "\n",
    "    return ids, source, target, weight, name\n",
    "\n",
    "# função para gerar o grafo de forma visual\n",
    "def create_visual_network(customer, book, stars):\n",
    "    got_net = Network(notebook=True)\n",
    "\n",
    "    got_net.barnes_hut()\n",
    "\n",
    "    edge_data = zip(customer, book, stars)\n",
    "\n",
    "    for e in edge_data:\n",
    "        src = e[0]\n",
    "        dst = e[1]\n",
    "        w = e[2]\n",
    "\n",
    "        got_net.add_node(src, src, title=src)\n",
    "        got_net.add_node(dst, dst, title=dst)\n",
    "        got_net.add_edge(src, dst, value=w)\n",
    "\n",
    "    neighbor_map = got_net.get_adj_list()\n",
    "\n",
    "    for node in got_net.nodes:\n",
    "                    node[\"title\"] += \" Neighbors:<br>\" + \"<br>\".join(neighbor_map[node[\"id\"]])\n",
    "                    node[\"value\"] = len(neighbor_map[node[\"id\"]])\n",
    "\n",
    "    return got_net.show(\"books.html\")"
   ]
  },
  {
   "cell_type": "code",
   "execution_count": 8,
   "id": "5760a729",
   "metadata": {},
   "outputs": [],
   "source": [
    "# read amazon-meta\n",
    "with open('amazon-meta.txt', 'r', encoding=\"utf8\", errors='ignore') as f:\n",
    "    lines = f.readlines()"
   ]
  },
  {
   "cell_type": "markdown",
   "id": "bdfdbfb1",
   "metadata": {},
   "source": [
    "Em `num_samples` podemos escolher quantas compras vamos usar para visualizar a rede. Nesse exemplo usaremos 100 amostras."
   ]
  },
  {
   "cell_type": "code",
   "execution_count": 9,
   "id": "b733fd35",
   "metadata": {},
   "outputs": [],
   "source": [
    "num_samples = 100\n",
    "dataset = get_sample_dataset(lines, num_samples)\n",
    "dataset = [\"\".join(item) for item in dataset]"
   ]
  },
  {
   "cell_type": "code",
   "execution_count": 10,
   "id": "efc51270",
   "metadata": {},
   "outputs": [],
   "source": [
    "# filtro para remover os produtos que retornaram None, alguns deles foram descontinuados\n",
    "products_filtered = list(filter(None, [get_amazon_metadata(i) for i in dataset]))"
   ]
  },
  {
   "cell_type": "code",
   "execution_count": 12,
   "id": "7c1f1134",
   "metadata": {},
   "outputs": [],
   "source": [
    "# junção das amostras para visualização\n",
    "customer = list()\n",
    "book = list()\n",
    "stars = list()\n",
    "\n",
    "for i in products_filtered:\n",
    "    customer += i[1]\n",
    "    book += i[2]\n",
    "    stars += i[3]"
   ]
  },
  {
   "cell_type": "code",
   "execution_count": 15,
   "id": "0b3df4c7",
   "metadata": {},
   "outputs": [
    {
     "name": "stdout",
     "output_type": "stream",
     "text": [
      "Local cdn resources have problems on chrome/safari when used in jupyter-notebook. \n"
     ]
    },
    {
     "data": {
      "text/html": [
       "\n",
       "        <iframe\n",
       "            width=\"100%\"\n",
       "            height=\"600px\"\n",
       "            src=\"books.html\"\n",
       "            frameborder=\"0\"\n",
       "            allowfullscreen\n",
       "            \n",
       "        ></iframe>\n",
       "        "
      ],
      "text/plain": [
       "<IPython.lib.display.IFrame at 0x7f3da42ed310>"
      ]
     },
     "execution_count": 15,
     "metadata": {},
     "output_type": "execute_result"
    }
   ],
   "source": [
    "create_visual_network(customer, book, stars)"
   ]
  },
  {
   "cell_type": "code",
   "execution_count": null,
   "id": "0640c4c2",
   "metadata": {},
   "outputs": [],
   "source": []
  }
 ],
 "metadata": {
  "kernelspec": {
   "display_name": "Python 3 (ipykernel)",
   "language": "python",
   "name": "python3"
  },
  "language_info": {
   "codemirror_mode": {
    "name": "ipython",
    "version": 3
   },
   "file_extension": ".py",
   "mimetype": "text/x-python",
   "name": "python",
   "nbconvert_exporter": "python",
   "pygments_lexer": "ipython3",
   "version": "3.8.13"
  }
 },
 "nbformat": 4,
 "nbformat_minor": 5
}
